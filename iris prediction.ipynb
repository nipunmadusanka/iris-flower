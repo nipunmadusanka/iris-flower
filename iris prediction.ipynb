{
 "cells": [
  {
   "cell_type": "code",
   "execution_count": 3,
   "id": "1e4163a2",
   "metadata": {},
   "outputs": [],
   "source": [
    "# Getting Predictions\n",
    "\n",
    "import joblib\n",
    "\n",
    "model = joblib.load('KNN-iris-model.sav')"
   ]
  },
  {
   "cell_type": "code",
   "execution_count": 6,
   "id": "1e1680b8",
   "metadata": {},
   "outputs": [
    {
     "name": "stdout",
     "output_type": "stream",
     "text": [
      "[1.]\n"
     ]
    }
   ],
   "source": [
    "test_data=[[2.4,3.3,4.1,0.5]]\n",
    "result= model.predict(test_data)\n",
    "print(result)"
   ]
  },
  {
   "cell_type": "code",
   "execution_count": null,
   "id": "badc9321",
   "metadata": {},
   "outputs": [],
   "source": []
  }
 ],
 "metadata": {
  "kernelspec": {
   "display_name": "Python 3 (ipykernel)",
   "language": "python",
   "name": "python3"
  },
  "language_info": {
   "codemirror_mode": {
    "name": "ipython",
    "version": 3
   },
   "file_extension": ".py",
   "mimetype": "text/x-python",
   "name": "python",
   "nbconvert_exporter": "python",
   "pygments_lexer": "ipython3",
   "version": "3.9.7"
  }
 },
 "nbformat": 4,
 "nbformat_minor": 5
}
